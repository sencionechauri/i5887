{
  "cells": [
    {
      "cell_type": "markdown",
      "source": [
        "# <center>stl::stack</center>"
      ],
      "metadata": {
        "nteract": {
          "transient": {
            "deleting": false
          }
        }
      }
    },
    {
      "cell_type": "markdown",
      "source": [
        "En este cuaderno revisaremos el tipo de dato abstracto (TDA) ```stack``` de la biblioteca de plantillas estándar (stl) de C++. \n",
        "\n",
        "```stack``` nos permite tener una colección de datos del mismo tipo organizados como una pila (Last In First Out - Último en Entrar Primero en Salir) y además tiene métodos y funciones que nos dan la posibilidad de administrar los objetos contenidos.\n",
        "\n",
        "Para poder crear una pila no es necesario indicar el tamaño debido a que es un contenedor dinámico. Cada vez que agregamos un elemento a la pila se reserva memoria de la máquina y el elemento es agregado a la colección.\n",
        "\n",
        "Como se mencionó anteriormente ```stack``` es parte de la biblioteca de plantillas estándar, es decir, que funciona como una plantilla."
      ],
      "metadata": {
        "nteract": {
          "transient": {
            "deleting": false
          }
        }
      }
    },
    {
      "cell_type": "markdown",
      "source": [
        "## <center>Declaración</center>\n",
        "\n",
        "Para utilizar una pila se debe escribir la palabra reservada **stack** seguida del tipo de dato entre picoparéntesis < \\> y posteriormente el identificador con el que se asociará al contenedor:\n",
        "\n",
        "```\n",
        "stack<tipoDeDato> identificador;\n",
        "```"
      ],
      "metadata": {
        "nteract": {
          "transient": {
            "deleting": false
          }
        }
      }
    },
    {
      "cell_type": "markdown",
      "source": [
        "Veamos algunos ejemplos. Declaremos dos pilas con las cuales estaremos trabajando, una de números de coma flotante y otra de símbolos."
      ],
      "metadata": {
        "nteract": {
          "transient": {
            "deleting": false
          }
        }
      }
    },
    {
      "cell_type": "code",
      "source": [
        "#include <iostream>\n",
        "//Necesitamos incluir la biblioteca stack\n",
        "#include <stack>\n",
        "\n",
        "using namespace std;\n",
        "\n",
        "stack<float> reales;\n",
        "stack<char> simbolos;"
      ],
      "outputs": [],
      "execution_count": null,
      "metadata": {
        "collapsed": true,
        "jupyter": {
          "source_hidden": false,
          "outputs_hidden": false
        },
        "nteract": {
          "transient": {
            "deleting": false
          }
        }
      }
    },
    {
      "cell_type": "markdown",
      "source": [
        "Si queremos agregar elementos a una pila lo podemos hacer con **push(elemento)**. Cada vez que un elemento es agregado a la pila, se posiciona como el primer elemento o el elemento de la cima de la colección de datos."
      ],
      "metadata": {
        "nteract": {
          "transient": {
            "deleting": false
          }
        }
      }
    },
    {
      "cell_type": "code",
      "source": [
        "reales.push(3.141592);\n",
        "reales.push_front(9.81);\n",
        "\n",
        "simbolos.push('N');\n",
        "simbolos.push('L');\n",
        "simbolos.push('Z');\n",
        "simbolos.push('E');"
      ],
      "outputs": [],
      "execution_count": null,
      "metadata": {
        "collapsed": true,
        "jupyter": {
          "source_hidden": false,
          "outputs_hidden": false
        },
        "nteract": {
          "transient": {
            "deleting": false
          }
        }
      }
    },
    {
      "cell_type": "markdown",
      "source": [
        "Podemos evaluar si una pila está vacía usando la función **empty()** de la pila que regresará *verdadero* en caso que la pila esté vacía o *falso* en otro caso.\n",
        "\n",
        "Además de saber si una pila está vacía, podemos saber la cantidad de elementos almacenados con la función **size()** "
      ],
      "metadata": {
        "nteract": {
          "transient": {
            "deleting": false
          }
        }
      }
    },
    {
      "cell_type": "code",
      "source": [
        "if (reales.empty())\n",
        "{\n",
        "  cout <<\"La pila de números reales está vacía\" <<endl <<endl;\n",
        "}\n",
        "else\n",
        "{\n",
        "  cout <<\"La pila de números reales no está vacía y contiene \" <<reales.size() <<\" elementos\" <<endl <<endl;\n",
        "}\n",
        "\n",
        "cout <<\"El tamaño de la pila de símbolos es \" <<simbolos.size() <<endl <<endl;"
      ],
      "outputs": [],
      "execution_count": null,
      "metadata": {
        "collapsed": true,
        "jupyter": {
          "source_hidden": false,
          "outputs_hidden": false
        },
        "nteract": {
          "transient": {
            "deleting": false
          }
        }
      }
    },
    {
      "cell_type": "markdown",
      "source": [
        "Podemos obtener el elemento que están en la cima de una pila con la funcion **top()**."
      ],
      "metadata": {
        "nteract": {
          "transient": {
            "deleting": false
          }
        }
      }
    },
    {
      "cell_type": "code",
      "source": [
        "cout <<\"reales.top(): \" <<reales.top() <<endl <<endl;\n",
        "\n",
        "cout <<\"simbolos.top(): \" <<simbolos.top() <<endl <<endl;"
      ],
      "outputs": [],
      "execution_count": null,
      "metadata": {
        "collapsed": true,
        "jupyter": {
          "source_hidden": false,
          "outputs_hidden": false
        },
        "nteract": {
          "transient": {
            "deleting": false
          }
        }
      }
    },
    {
      "cell_type": "markdown",
      "source": [
        "Para eliminar datos de la pila se utiliza el método **pop()** el cual eliminará el primer elemento de la colección. En una pila solo se puede eliminar el elemento que está en la cima de la colección de datos."
      ],
      "metadata": {
        "nteract": {
          "transient": {
            "deleting": false
          }
        }
      }
    },
    {
      "cell_type": "code",
      "source": [
        "cout <<\"reales tiene \" <<reales.size() <<\" datos\" <<endl;\n",
        "reales.pop();\n",
        "cout <<\"Después de eliminar el primero tiene \" <<reales.size() <<\" datos\" <<endl;"
      ],
      "outputs": [],
      "execution_count": null,
      "metadata": {
        "collapsed": true,
        "jupyter": {
          "source_hidden": false,
          "outputs_hidden": false
        },
        "nteract": {
          "transient": {
            "deleting": false
          }
        }
      }
    },
    {
      "cell_type": "markdown",
      "source": [
        "Para mostrar los elementos que hay en una pila se debe tomar cada uno ellos, lo cual hará que la colección de datos quede vacía."
      ],
      "metadata": {
        "nteract": {
          "transient": {
            "deleting": false
          }
        }
      }
    },
    {
      "cell_type": "code",
      "source": [
        "cout <<\"Símbolos: \" <<endl;\n",
        "while(!simbolos.empty())\n",
        "{\n",
        "  cout <<simbolos.top() <<\" \";\n",
        "  simbolos.pop();\n",
        "}\n",
        "if (simbolos.empty())\n",
        "{\n",
        "  cout <<\"La pila de símbolos está vacía\" <<endl <<endl;\n",
        "}"
      ],
      "outputs": [],
      "execution_count": null,
      "metadata": {
        "collapsed": true,
        "jupyter": {
          "source_hidden": false,
          "outputs_hidden": false
        },
        "nteract": {
          "transient": {
            "deleting": false
          }
        }
      }
    }
  ],
  "metadata": {
    "kernelspec": {
      "name": "xcpp11",
      "display_name": "C++11",
      "language": "C++11"
    },
    "language_info": {
      "codemirror_mode": "text/x-c++src",
      "file_extension": ".cpp",
      "mimetype": "text/x-c++src",
      "name": "c++",
      "version": "11"
    },
    "nteract": {
      "version": "0.26.0"
    }
  },
  "nbformat": 4,
  "nbformat_minor": 4
}