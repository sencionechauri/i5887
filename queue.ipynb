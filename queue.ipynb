{
  "cells": [
    {
      "cell_type": "markdown",
      "source": [
        "# <center>stl::queue</center>"
      ],
      "metadata": {
        "nteract": {
          "transient": {
            "deleting": false
          }
        }
      }
    },
    {
      "cell_type": "markdown",
      "source": [
        "En este cuaderno revisaremos el tipo de dato abstracto (TDA) ```queue``` de la biblioteca de plantillas estándar (stl) de C++. \n",
        "\n",
        "```queue``` nos permite tener una colección de datos del mismo tipo organizados como una cola (First In First Out - Primero en Entrar Primero en Salir) y además tiene métodos y funciones que nos dan la posibilidad de administrar los objetos contenidos.\n",
        "\n",
        "Para poder crear una cola no es necesario indicar el tamaño debido a que es un contenedor dinámico. Cada vez que agregamos un elemento a la cola se reserva memoria de la máquina y el elemento es agregado a la colección.\n",
        "\n",
        "Como se mencionó anteriormente ```queue``` es parte de la biblioteca de plantillas estándar, es decir, que funciona como una plantilla."
      ],
      "metadata": {
        "nteract": {
          "transient": {
            "deleting": false
          }
        }
      }
    },
    {
      "cell_type": "markdown",
      "source": [
        "## <center>Declaración</center>\n",
        "\n",
        "Para utilizar una cola se debe escribir la palabra reservada **queue** seguida del tipo de dato entre picoparéntesis < \\> y posteriormente el identificador con el que se asociará al contenedor:\n",
        "\n",
        "```\n",
        "queue<tipoDeDato> identificador;\n",
        "```"
      ],
      "metadata": {
        "nteract": {
          "transient": {
            "deleting": false
          }
        }
      }
    },
    {
      "cell_type": "markdown",
      "source": [
        "Veamos algunos ejemplos. Declaremos dos colas con las cuales estaremos trabajando, una de números de coma flotante y otra de símbolos."
      ],
      "metadata": {
        "nteract": {
          "transient": {
            "deleting": false
          }
        }
      }
    },
    {
      "cell_type": "code",
      "source": [
        "#include <iostream>\n",
        "//Necesitamos incluir la biblioteca queue\n",
        "#include <queue>\n",
        "\n",
        "using namespace std;\n",
        "\n",
        "queue<float> reales;\n",
        "queue<char> simbolos;"
      ],
      "outputs": [],
      "execution_count": null,
      "metadata": {
        "collapsed": true,
        "jupyter": {
          "source_hidden": false,
          "outputs_hidden": false
        },
        "nteract": {
          "transient": {
            "deleting": false
          }
        }
      }
    },
    {
      "cell_type": "markdown",
      "source": [
        "Si queremos agregar elementos a una cola lo podemos hacer con **push(elemento)**. Cada vez que un elemento es agregado a la cola, se posiciona como el último elemento o el elemento del final de la colección de datos."
      ],
      "metadata": {
        "nteract": {
          "transient": {
            "deleting": false
          }
        }
      }
    },
    {
      "cell_type": "code",
      "source": [
        "reales.push(3.141592);\n",
        "reales.push_front(9.81);\n",
        "\n",
        "simbolos.push('A');\n",
        "simbolos.push('B');\n",
        "simbolos.push('C');\n",
        "simbolos.push('D');"
      ],
      "outputs": [],
      "execution_count": null,
      "metadata": {
        "collapsed": true,
        "jupyter": {
          "source_hidden": false,
          "outputs_hidden": false
        },
        "nteract": {
          "transient": {
            "deleting": false
          }
        }
      }
    },
    {
      "cell_type": "markdown",
      "source": [
        "Podemos evaluar si una cola está vacía usando la función **empty()** de la cola que regresará *verdadero* en caso que la cola esté vacía o *falso* en otro caso.\n",
        "\n",
        "Además de saber si una cola está vacía, podemos saber la cantidad de elementos almacenados con la función **size()** "
      ],
      "metadata": {
        "nteract": {
          "transient": {
            "deleting": false
          }
        }
      }
    },
    {
      "cell_type": "code",
      "source": [
        "if (reales.empty())\n",
        "{\n",
        "  cout <<\"La cola de números reales está vacía\" <<endl <<endl;\n",
        "}\n",
        "else\n",
        "{\n",
        "  cout <<\"La cola de números reales no está vacía y contiene \" <<reales.size() <<\" elementos\" <<endl <<endl;\n",
        "}\n",
        "\n",
        "cout <<\"El tamaño de la cola de símbolos es \" <<simbolos.size() <<endl <<endl;"
      ],
      "outputs": [],
      "execution_count": null,
      "metadata": {
        "collapsed": true,
        "jupyter": {
          "source_hidden": false,
          "outputs_hidden": false
        },
        "nteract": {
          "transient": {
            "deleting": false
          }
        }
      }
    },
    {
      "cell_type": "markdown",
      "source": [
        "Podemos obtener los elementos que están al frente y al final de una cola con las funciones **front()** y **back()**."
      ],
      "metadata": {
        "nteract": {
          "transient": {
            "deleting": false
          }
        }
      }
    },
    {
      "cell_type": "code",
      "source": [
        "cout <<\"reales.front(): \" <<reales.front() <<endl\n",
        "<<\"reales.back(): \" <<reales.back() <<endl <<endl;\n",
        "\n",
        "cout <<\"simbolos.front(): \" <<simbolos.front() <<endl\n",
        "<<\"simbolos.back(): \" <<simbolos.back() <<endl <<endl;"
      ],
      "outputs": [],
      "execution_count": null,
      "metadata": {
        "collapsed": true,
        "jupyter": {
          "source_hidden": false,
          "outputs_hidden": false
        },
        "nteract": {
          "transient": {
            "deleting": false
          }
        }
      }
    },
    {
      "cell_type": "markdown",
      "source": [
        "Para eliminar datos de la cola se utiliza el método **pop()** el cual eliminará el primer elemento de la colección. En una cola solo se puede eliminar o *atender* el elemento que está al frente de la colección de datos."
      ],
      "metadata": {
        "nteract": {
          "transient": {
            "deleting": false
          }
        }
      }
    },
    {
      "cell_type": "code",
      "source": [
        "cout <<\"reales tiene \" <<reales.size() <<\" datos\" <<endl;\n",
        "reales.pop();\n",
        "cout <<\"Después de eliminar el primero tiene \" <<reales.size() <<\" datos\" <<endl;"
      ],
      "outputs": [],
      "execution_count": null,
      "metadata": {
        "collapsed": true,
        "jupyter": {
          "source_hidden": false,
          "outputs_hidden": false
        },
        "nteract": {
          "transient": {
            "deleting": false
          }
        }
      }
    },
    {
      "cell_type": "markdown",
      "source": [
        "Para mostrar los elementos que hay en una cola se debe atender cada uno ellos, lo cual hará que la colección de datos quede vacía."
      ],
      "metadata": {
        "nteract": {
          "transient": {
            "deleting": false
          }
        }
      }
    },
    {
      "cell_type": "code",
      "source": [
        "cout <<\"Símbolos: \" <<endl;\n",
        "while(!simbolos.empty())\n",
        "{\n",
        "  cout <<simbolos.front() <<\" \";\n",
        "  simbolos.pop();\n",
        "}\n",
        "if (simbolos.empty())\n",
        "{\n",
        "  cout <<\"La cola de símbolos está vacía\" <<endl <<endl;\n",
        "}"
      ],
      "outputs": [],
      "execution_count": null,
      "metadata": {
        "collapsed": true,
        "jupyter": {
          "source_hidden": false,
          "outputs_hidden": false
        },
        "nteract": {
          "transient": {
            "deleting": false
          }
        }
      }
    }
  ],
  "metadata": {
    "kernelspec": {
      "name": "xcpp11",
      "display_name": "C++11",
      "language": "C++11"
    },
    "language_info": {
      "codemirror_mode": "text/x-c++src",
      "file_extension": ".cpp",
      "mimetype": "text/x-c++src",
      "name": "c++",
      "version": "11"
    },
    "nteract": {
      "version": "0.26.0"
    }
  },
  "nbformat": 4,
  "nbformat_minor": 4
}