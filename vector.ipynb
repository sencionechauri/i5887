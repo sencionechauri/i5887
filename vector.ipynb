{
  "cells": [
    {
      "cell_type": "markdown",
      "source": [
        "# <center>stl::vector</center>"
      ],
      "metadata": {
        "nteract": {
          "transient": {
            "deleting": false
          }
        }
      }
    },
    {
      "cell_type": "markdown",
      "source": [
        "En este cuaderno revisaremos el tipo de dato abstracto (TDA) vector de la biblioteca de plantillas estándar (stl) de C++. \n",
        "\n",
        "vector nos permite tener una colección de datos del mismo tipo y además tiene métodos y funciones que nos dan la posibilidad de administrar los objetos contenidos. Puedes imaginarlo como un arreglo en el cual además existen funciones implementadas.\n",
        "\n",
        "Para poder crear un vector no es necesario indicar el tamaño debido a que es un contenedor dinámico. Inicialmente tiene un tamaño pequeño y a medida que necesita almacenar más datos, el tamaño del contenedor crece de manera dinámica; esto lo hace muy práctico porque no hay tanto espacio desperdiciado como sí podría haberlo en un arreglo de tamaño fijo.\n",
        "\n",
        "Como se mencionó anteriormente vector es parte de la biblioteca de plantillas estándar, es decir, que funciona como una plantilla."
      ],
      "metadata": {
        "nteract": {
          "transient": {
            "deleting": false
          }
        }
      }
    },
    {
      "cell_type": "markdown",
      "source": [
        "## <center>¿Qué es una plantilla?</center>\n",
        "\n",
        "Una plantilla es una clase que puede trabajar con cualquier tipo de dato que se le indique. Su implementación está hecha de forma tal que el tipo de dato con el que trabajará queda pendiente hasta el momento de compilación del código en el cual será utilizado. Esta característica las hace muy atractivas para colecciones de datos porque nos permite declarar una colección del tipo que necesitemos sin necesidad de crear una clase específica para ello."
      ],
      "metadata": {
        "nteract": {
          "transient": {
            "deleting": false
          }
        }
      }
    },
    {
      "cell_type": "markdown",
      "source": [
        "## <center>Declaración</center>\n",
        "\n",
        "Para utilizar un vector se debe escribir la palabra reservada **vector** seguida del tipo de dato entre picoparéntesis < \\> y posteriormente el identificador con el que se asociará al contenedor:\n",
        "\n",
        "```\n",
        "vector<tipoDeDato> identificador;\n",
        "```"
      ],
      "metadata": {
        "nteract": {
          "transient": {
            "deleting": false
          }
        }
      }
    },
    {
      "cell_type": "markdown",
      "source": [
        "Veamos algunos ejemplos. Declaremos dos vectores con los cuales estaremos trabajando, uno de números y otro de cadenas."
      ],
      "metadata": {
        "nteract": {
          "transient": {
            "deleting": false
          }
        }
      }
    },
    {
      "cell_type": "code",
      "source": [
        "#include <iostream>\n",
        "//Necesitamos incluir la biblioteca vector\n",
        "#include <vector>\n",
        "\n",
        "using namespace std;\n",
        "\n",
        "vector<int> numeros;\n",
        "vector<string> cadenas;"
      ],
      "outputs": [],
      "execution_count": null,
      "metadata": {
        "collapsed": true,
        "jupyter": {
          "source_hidden": false,
          "outputs_hidden": false
        },
        "nteract": {
          "transient": {
            "deleting": false
          }
        }
      }
    },
    {
      "cell_type": "markdown",
      "source": [
        "Si queremos agregar elementos a un vector lo podemos hacer con **push_back(elemento)** pasando como argumento el valor que deseamos agregar. El resultado será el elemento añadido hacia el final del vector."
      ],
      "metadata": {
        "nteract": {
          "transient": {
            "deleting": false
          }
        }
      }
    },
    {
      "cell_type": "code",
      "source": [
        "numeros.push_back(33);\n",
        "numeros.push_back(55);\n",
        "numeros.push_back(77);\n",
        "\n",
        "cadenas.push_back(\"Hola \");\n",
        "cadenas.push_back(\"crayola\");"
      ],
      "outputs": [],
      "execution_count": null,
      "metadata": {
        "collapsed": true,
        "jupyter": {
          "source_hidden": false,
          "outputs_hidden": false
        },
        "nteract": {
          "transient": {
            "deleting": false
          }
        }
      }
    },
    {
      "cell_type": "markdown",
      "source": [
        "Para consultar los datos que existen en un vector podemos utilizar la notación de corchetes como si fuera un arreglo, escribiendo dentro de los corchetes la posición que queremos consultar, o bien con la función **at(posicion)** pasando como argumento la posición deseada.\n"
      ],
      "metadata": {
        "nteract": {
          "transient": {
            "deleting": false
          }
        }
      }
    },
    {
      "cell_type": "code",
      "source": [
        "cout <<\"numeros[0] : \" <<numeros[0] <<endl\n",
        "    <<\"numeros.at(1) : \" <<numeros.at(1) <<endl\n",
        "   <<\"cadenas.at(0) : \" <<cadenas.at(0) <<endl;"
      ],
      "outputs": [],
      "execution_count": null,
      "metadata": {
        "collapsed": true,
        "jupyter": {
          "source_hidden": false,
          "outputs_hidden": false
        },
        "nteract": {
          "transient": {
            "deleting": false
          }
        }
      }
    },
    {
      "cell_type": "markdown",
      "source": [
        "Podemos reemplazar el valor de un elemento como si se tratase de un arreglo, es decir asignádole un nuevo valor con el operador = ."
      ],
      "metadata": {
        "nteract": {
          "transient": {
            "deleting": false
          }
        }
      }
    },
    {
      "cell_type": "code",
      "source": [
        "//Podemos utilizar indistintamente la notación de corchetes y la función at()\n",
        "numeros[1] = 44;\n",
        "numeros.at(2) = 55;\n",
        "cadenas.at(1) = \"Crayola\";"
      ],
      "outputs": [],
      "execution_count": null,
      "metadata": {
        "collapsed": true,
        "jupyter": {
          "source_hidden": false,
          "outputs_hidden": false
        },
        "nteract": {
          "transient": {
            "deleting": false
          }
        }
      }
    },
    {
      "cell_type": "markdown",
      "source": [
        "Podemos mostrar todo el contenido de un vector recorriéndolo con un ciclo y para ello necesitamos saber cuántos elementos existen en el vector, afortunadamente existe la función **size()** que nos retorna la cantidad de elementos en el vector. ¡Un vector siempre sabe cuántos elementos guarda!\n",
        "\n",
        "Para el contador utilizaremos el tipo de dato **size_t** el cual es un entero sin signo y es muy utilizado para representar el tamaño de colecciones."
      ],
      "metadata": {
        "nteract": {
          "transient": {
            "deleting": false
          }
        }
      }
    },
    {
      "cell_type": "code",
      "source": [
        "cout <<\"Vector de números: \";\n",
        "for (size_t i(0); i < numeros.size(); ++i)\n",
        "{\n",
        "    cout <<numeros.at(i) <<\" \";\n",
        "}\n",
        "cout <<endl <<endl <<\"Vector de cadenas: \";\n",
        "for (size_t i(0); i < cadenas.size(); ++i)\n",
        "{\n",
        "    cout <<cadenas.at(i) <<\" \";\n",
        "}"
      ],
      "outputs": [],
      "execution_count": null,
      "metadata": {
        "collapsed": true,
        "jupyter": {
          "source_hidden": false,
          "outputs_hidden": false
        },
        "nteract": {
          "transient": {
            "deleting": false
          }
        }
      }
    },
    {
      "cell_type": "markdown",
      "source": [
        "Otra forma de recorrer un vector es haciendo uso de un *iterador*. Un iterador es un objeto especial que internamente guarda un apuntador hacia los datos de la colección.\n",
        "\n",
        "Un vector tiene dos funciones que pueden servir para inicializar un iterador: **begin()** y **end()**. Apuntando al inicio y fin de la colección respectivamente. \n",
        "\n",
        "Mientras que begin() apunta al primer elemento, end() apunta a una posición después del último dato."
      ],
      "metadata": {
        "nteract": {
          "transient": {
            "deleting": false
          }
        }
      }
    },
    {
      "cell_type": "code",
      "source": [
        "//Declaramos un iterador\n",
        "vector<int>::iterator it;\n",
        "//Ahora recorramos el vector de números con el iterador\n",
        "for (it = numeros.begin(); it != numeros.end(); ++it)\n",
        "{\n",
        "    cout <<*it <<\" \";\n",
        "}\n",
        "cout <<endl <<endl;\n",
        "//Ahora para el vector de cadenas\n",
        "vector<string>::iterator itCadenas;\n",
        "//Ahora recorramos el vector de números con el iterador\n",
        "for (itCadenas = cadenas.begin(); itCadenas != cadenas.end(); ++itCadenas)\n",
        "{\n",
        "    cout <<*itCadenas <<\" \";\n",
        "}\n"
      ],
      "outputs": [],
      "execution_count": null,
      "metadata": {
        "collapsed": true,
        "jupyter": {
          "source_hidden": false,
          "outputs_hidden": false
        },
        "nteract": {
          "transient": {
            "deleting": false
          }
        }
      }
    },
    {
      "cell_type": "markdown",
      "source": [
        "Un vector permite insertar elementos por posición y para ello necesitamos utilizar el método **insert(posicion, dato)** siendo la posición indicada por un iterador."
      ],
      "metadata": {
        "nteract": {
          "transient": {
            "deleting": false
          }
        }
      }
    },
    {
      "cell_type": "code",
      "source": [
        "//Insertar en la posición 2 del vector de números el valor 66\n",
        "numeros.insert(numeros.begin()+2, 66);\n",
        "cout <<\"numeros.at(2): \" <<numeros.at(2) <<endl;"
      ],
      "outputs": [],
      "execution_count": null,
      "metadata": {
        "collapsed": true,
        "jupyter": {
          "source_hidden": false,
          "outputs_hidden": false
        },
        "nteract": {
          "transient": {
            "deleting": false
          }
        }
      }
    },
    {
      "cell_type": "markdown",
      "source": [
        "Para eliminar datos de un vector podemos utilizar el método **pop_back()** el cual elimina el último elemento de la colección."
      ],
      "metadata": {
        "nteract": {
          "transient": {
            "deleting": false
          }
        }
      }
    },
    {
      "cell_type": "code",
      "source": [
        "cout <<\"numeros tiene \" <<numeros.size() <<\" datos\" <<endl;\n",
        "numeros.pop_back();\n",
        "cout <<\"Después de eliminar el último tiene \" <<numeros.size() <<\" datos\" <<endl;"
      ],
      "outputs": [],
      "execution_count": null,
      "metadata": {
        "collapsed": true,
        "jupyter": {
          "source_hidden": false,
          "outputs_hidden": false
        },
        "nteract": {
          "transient": {
            "deleting": false
          }
        }
      }
    },
    {
      "cell_type": "markdown",
      "source": [
        "Y si queremos eliminar el dato de una posición específica lo hacemos con el método **erase(posicion)** siendo la posición un iterador."
      ],
      "metadata": {
        "nteract": {
          "transient": {
            "deleting": false
          }
        }
      }
    },
    {
      "cell_type": "code",
      "source": [
        "//Eliminar la posició 1 del vector de cadenas\n",
        "cadenas.erase(cadenas.begin()+1);\n",
        "cout <<\"cadenas tiene \" <<cadenas.size() <<\" datos\" <<endl;"
      ],
      "outputs": [],
      "execution_count": null,
      "metadata": {
        "collapsed": true,
        "jupyter": {
          "source_hidden": false,
          "outputs_hidden": false
        },
        "nteract": {
          "transient": {
            "deleting": false
          }
        }
      }
    },
    {
      "cell_type": "code",
      "source": [
        "//Hora de practicar. Realiza las siguientes operaciones con un vector.\n",
        "\n",
        "//Declara un vector de tipo entero llamado enteros.\n",
        "//Agrega los datos 22, 44, 66, 88\n",
        "//Reemplaza el valor en la posición 1 por ese mismo valor + 3 unidades\n",
        "//Inserta en la posición 3 el valor 56\n",
        "//Elimina el último elemento del vector\n",
        "//Elimina el elemento en la posición 2\n",
        "//Imprime con un ciclo for el contenido del vector\n",
        "\n",
        "//Resultado esperado: 22 47 56\n"
      ],
      "outputs": [],
      "execution_count": null,
      "metadata": {
        "collapsed": true,
        "jupyter": {
          "source_hidden": false,
          "outputs_hidden": false
        },
        "nteract": {
          "transient": {
            "deleting": false
          }
        }
      }
    }
  ],
  "metadata": {
    "kernelspec": {
      "name": "xcpp11",
      "display_name": "C++11",
      "language": "C++11"
    },
    "language_info": {
      "codemirror_mode": "text/x-c++src",
      "file_extension": ".cpp",
      "mimetype": "text/x-c++src",
      "name": "c++",
      "version": "11"
    },
    "nteract": {
      "version": "0.25.0"
    }
  },
  "nbformat": 4,
  "nbformat_minor": 4
}