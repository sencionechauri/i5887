{
  "cells": [
    {
      "cell_type": "markdown",
      "source": [
        "# <center>stl::list</center>"
      ],
      "metadata": {
        "nteract": {
          "transient": {
            "deleting": false
          }
        }
      }
    },
    {
      "cell_type": "markdown",
      "source": [
        "En este cuaderno revisaremos el tipo de dato abstracto (TDA) ```list``` de la biblioteca de plantillas estándar (stl) de C++. \n",
        "\n",
        "```list``` nos permite tener una colección de datos del mismo tipo y además tiene métodos y funciones que nos dan la posibilidad de administrar los objetos contenidos.\n",
        "\n",
        "Para poder crear una lista no es necesario indicar el tamaño debido a que es un contenedor dinámico. Cada vez que agregamos un elemento a la lista se reserva memoria de la máquina y el elemento es agregado a la colección.\n",
        "\n",
        "Como se mencionó anteriormente ```list``` es parte de la biblioteca de plantillas estándar, es decir, que funciona como una plantilla."
      ],
      "metadata": {
        "nteract": {
          "transient": {
            "deleting": false
          }
        }
      }
    },
    {
      "cell_type": "markdown",
      "source": [
        "## <center>Declaración</center>\n",
        "\n",
        "Para utilizar una lista se debe escribir la palabra reservada **list** seguida del tipo de dato entre picoparéntesis < \\> y posteriormente el identificador con el que se asociará al contenedor:\n",
        "\n",
        "```\n",
        "list<tipoDeDato> identificador;\n",
        "```"
      ],
      "metadata": {
        "nteract": {
          "transient": {
            "deleting": false
          }
        }
      }
    },
    {
      "cell_type": "markdown",
      "source": [
        "Veamos algunos ejemplos. Declaremos dos listas con las cuales estaremos trabajando, una de números y otra de cadenas."
      ],
      "metadata": {
        "nteract": {
          "transient": {
            "deleting": false
          }
        }
      }
    },
    {
      "cell_type": "code",
      "source": [
        "#include <iostream>\n",
        "//Necesitamos incluir la biblioteca vector\n",
        "#include <list>\n",
        "\n",
        "using namespace std;\n",
        "\n",
        "list<int> numeros;\n",
        "list<string> cadenas;"
      ],
      "outputs": [],
      "execution_count": null,
      "metadata": {
        "collapsed": true,
        "jupyter": {
          "source_hidden": false,
          "outputs_hidden": false
        },
        "nteract": {
          "transient": {
            "deleting": false
          }
        }
      }
    },
    {
      "cell_type": "markdown",
      "source": [
        "Si queremos agregar elementos a una lista lo podemos hacer con **push_back(elemento)** para agregar un elemento al final de la colección pasando como argumento el valor que deseamos agregar. O bien podemos hacer **push_front(elemento)** en caso de querer agregar un elemento al inicio de la colección. El resultado será el elemento añadido a la lista."
      ],
      "metadata": {
        "nteract": {
          "transient": {
            "deleting": false
          }
        }
      }
    },
    {
      "cell_type": "code",
      "source": [
        "numeros.push_front(22);\n",
        "numeros.push_front(11);\n",
        "numeros.push_front(0);\n",
        "numeros.push_back(33);\n",
        "numeros.push_back(55);\n",
        "numeros.push_back(77);\n",
        "\n",
        "cadenas.push_back(\"crayola\");\n",
        "cadenas.push_front(\"Hola \");"
      ],
      "outputs": [],
      "execution_count": null,
      "metadata": {
        "collapsed": true,
        "jupyter": {
          "source_hidden": false,
          "outputs_hidden": false
        },
        "nteract": {
          "transient": {
            "deleting": false
          }
        }
      }
    },
    {
      "cell_type": "markdown",
      "source": [
        "Podemos evaluar si una lista está vacía usando la función **empty()** de la lista que regresará *verdadero* en caso que la lista esté vacía o *falso* en otro caso.\n",
        "\n",
        "Además de saber si una lista está vacía, podemos saber la cantidad de elementos almacenados con la función **size()** "
      ],
      "metadata": {
        "nteract": {
          "transient": {
            "deleting": false
          }
        }
      }
    },
    {
      "cell_type": "code",
      "source": [
        "if (numeros.empty())\n",
        "{\n",
        "  cout <<\"La lista de números está vacía\" <<endl <<endl;\n",
        "}\n",
        "else\n",
        "{\n",
        "  cout <<\"La lista de números no está vacía\" <<endl <<endl\n",
        "}\n",
        "\n",
        "cout <<\"El tamaño de la lista de cadenas es \" <<cadenas.size() <<endl <<endl;"
      ],
      "outputs": [],
      "execution_count": null,
      "metadata": {
        "collapsed": true,
        "jupyter": {
          "source_hidden": false,
          "outputs_hidden": false
        },
        "nteract": {
          "transient": {
            "deleting": false
          }
        }
      }
    },
    {
      "cell_type": "markdown",
      "source": [
        "Para recorrer una lista debemos hacer uso de un *iterador*. Un iterador es un objeto especial que internamente guarda un apuntador hacia los datos de la colección.\n",
        "\n",
        "Una lista tiene dos funciones que pueden servir para inicializar un iterador: **begin()** y **end()**. Apuntando al inicio y fin de la colección respectivamente. \n",
        "\n",
        "Mientras que begin() apunta al primer elemento, end() apunta a una posición después del último dato."
      ],
      "metadata": {
        "nteract": {
          "transient": {
            "deleting": false
          }
        }
      }
    },
    {
      "cell_type": "code",
      "source": [
        "//Declaramos un iterador\n",
        "list<int>::iterator it;\n",
        "//Ahora recorramos la lista de números con el iterador\n",
        "for (it = numeros.begin(); it != numeros.end(); ++it)\n",
        "{\n",
        "    cout <<*it <<\" \";\n",
        "}\n",
        "cout <<endl <<endl;\n",
        "//Ahora para la lista de cadenas\n",
        "list<string>::iterator itCadenas;\n",
        "//Ahora recorramos la lista de cadenas con el iterador\n",
        "for (itCadenas = cadenas.begin(); itCadenas != cadenas.end(); ++itCadenas)\n",
        "{\n",
        "    cout <<*itCadenas <<\" \";\n",
        "}\n"
      ],
      "outputs": [],
      "execution_count": null,
      "metadata": {
        "collapsed": true,
        "jupyter": {
          "source_hidden": false,
          "outputs_hidden": false
        },
        "nteract": {
          "transient": {
            "deleting": false
          }
        }
      }
    },
    {
      "cell_type": "markdown",
      "source": [
        "Podemos obtener los elementos que están al frente y al final de una lista con las funciones **front()** y **back()**."
      ],
      "metadata": {
        "nteract": {
          "transient": {
            "deleting": false
          }
        }
      }
    },
    {
      "cell_type": "code",
      "source": [
        "cout <<\"numeros.front(): \" <<numeros.front() <<endl\n",
        "<<\"numeros.back(): \" <<numeros.back() <<endl <<endl;"
      ],
      "outputs": [],
      "execution_count": null,
      "metadata": {
        "collapsed": true,
        "jupyter": {
          "source_hidden": false,
          "outputs_hidden": false
        },
        "nteract": {
          "transient": {
            "deleting": false
          }
        }
      }
    },
    {
      "cell_type": "markdown",
      "source": [
        "Una lista permite insertar elementos por posición y para ello necesitamos utilizar el método **insert(posicion, dato)** siendo la posición indicada por un iterador.\n",
        "\n",
        "En el caso de las listas, a diferencia de los vectores, tendremos que avanzar el iterador a la posición deseada; para lograrlo utilizaremos el método **advance(iterador, distancia)**."
      ],
      "metadata": {
        "nteract": {
          "transient": {
            "deleting": false
          }
        }
      }
    },
    {
      "cell_type": "code",
      "source": [
        "//Insertar en la posición 2 de la lista de números el valor 345\n",
        "list<int>::iterator it = numeros.begin();\n",
        "advance(it, 2);\n",
        "numeros.insert(it, 345);\n",
        "for (it = numeros.begin(); it != numeros.end(); ++it)\n",
        "{\n",
        "    cout <<*it <<\" \";\n",
        "}\n",
        "cout <<endl;"
      ],
      "outputs": [],
      "execution_count": null,
      "metadata": {
        "collapsed": true,
        "jupyter": {
          "source_hidden": false,
          "outputs_hidden": false
        },
        "nteract": {
          "transient": {
            "deleting": false
          }
        }
      }
    },
    {
      "cell_type": "markdown",
      "source": [
        "En caso de necesitar modificar el valor de una posición particular, podemos usar el apuntador al dato y modificarlo directamente."
      ],
      "metadata": {
        "nteract": {
          "transient": {
            "deleting": false
          }
        }
      }
    },
    {
      "cell_type": "code",
      "source": [
        "//Modificar el segundo elemento de la lista de números\n",
        "list<int>::iterator it = numeros.begin();\n",
        "advance(it, 2);\n",
        "*it = 987;\n",
        "for (it = numeros.begin(); it != numeros.end(); ++it)\n",
        "{\n",
        "    cout <<*it <<\" \";\n",
        "}\n",
        "cout <<endl;\n"
      ],
      "outputs": [],
      "execution_count": null,
      "metadata": {
        "collapsed": true,
        "jupyter": {
          "source_hidden": false,
          "outputs_hidden": false
        },
        "nteract": {
          "transient": {
            "deleting": false
          }
        }
      }
    },
    {
      "cell_type": "markdown",
      "source": [
        "Para eliminar datos de la lista existen varias alternativas, podemos utilizar el método **pop_front()** para eliminar el primer elemento de la colección y el método **pop_back()** para eliminar el último de los datos almacenados en la lista."
      ],
      "metadata": {
        "nteract": {
          "transient": {
            "deleting": false
          }
        }
      }
    },
    {
      "cell_type": "code",
      "source": [
        "cout <<\"numeros tiene \" <<numeros.size() <<\" datos\" <<endl;\n",
        "numeros.pop_front();\n",
        "numeros.pop_back();\n",
        "cout <<\"Después de eliminar el último tiene \" <<numeros.size() <<\" datos\" <<endl;"
      ],
      "outputs": [],
      "execution_count": null,
      "metadata": {
        "collapsed": true,
        "jupyter": {
          "source_hidden": false,
          "outputs_hidden": false
        },
        "nteract": {
          "transient": {
            "deleting": false
          }
        }
      }
    },
    {
      "cell_type": "markdown",
      "source": [
        "Y si queremos eliminar el dato de una posición específica lo hacemos con el método **erase(posicion)** siendo la posición un iterador."
      ],
      "metadata": {
        "nteract": {
          "transient": {
            "deleting": false
          }
        }
      }
    },
    {
      "cell_type": "code",
      "source": [
        "//Eliminar la posición 3 de la lista de enteros\n",
        "list<int>::iterator it = numeros.begin();\n",
        "advance(it, 3);\n",
        "numeros.erase(it);\n",
        "cout <<\"números tiene \" <<numeros.size() <<\" datos\" <<endl;"
      ],
      "outputs": [],
      "execution_count": null,
      "metadata": {
        "collapsed": true,
        "jupyter": {
          "source_hidden": false,
          "outputs_hidden": false
        },
        "nteract": {
          "transient": {
            "deleting": false
          }
        }
      }
    },
    {
      "cell_type": "markdown",
      "source": [
        "Además de eliminar los elementos en la primer o última posición o bien cualquier posición que nosotros indiquemos, también podemos elimiar por valor con el método **remove(valor)**, el cual eliminará todas las ocurrencias del valor indicado."
      ],
      "metadata": {
        "nteract": {
          "transient": {
            "deleting": false
          }
        }
      }
    },
    {
      "cell_type": "code",
      "source": [
        "//Agreguemos el valor 33 al inicio y final de la lista para después eliminarlos.\n",
        "numeros.push_front(33);\n",
        "numeros.push_back(33);\n",
        "\n",
        "numeros.remove(33);\n",
        "for (list<int>::iterator it = numeros.begin(); it != numeros.end(); ++it)\n",
        "{\n",
        "    cout <<*it <<\" \";\n",
        "}\n",
        "cout <<endl;"
      ],
      "outputs": [],
      "execution_count": null,
      "metadata": {
        "collapsed": true,
        "jupyter": {
          "source_hidden": false,
          "outputs_hidden": false
        },
        "nteract": {
          "transient": {
            "deleting": false
          }
        }
      }
    },
    {
      "cell_type": "markdown",
      "source": [
        "Si deseamos ordenar la colección de datos podemos utilizar el método **sort()**, el cual por omisión ordenará los datos de forma no decreciente."
      ],
      "metadata": {
        "nteract": {
          "transient": {
            "deleting": false
          }
        }
      }
    },
    {
      "cell_type": "code",
      "source": [
        "numeros.sort();\n",
        "for (list<int>::iterator it = numeros.begin(); it != numeros.end(); ++it)\n",
        "{\n",
        "    cout <<*it <<\" \";\n",
        "}\n",
        "cout <<endl;"
      ],
      "outputs": [],
      "execution_count": null,
      "metadata": {
        "collapsed": true,
        "jupyter": {
          "source_hidden": false,
          "outputs_hidden": false
        },
        "nteract": {
          "transient": {
            "deleting": false
          }
        }
      }
    },
    {
      "cell_type": "markdown",
      "source": [
        "Finalmente podemos limpiar la colección (eliminar todos los elementos) con el método **clear()**."
      ],
      "metadata": {
        "nteract": {
          "transient": {
            "deleting": false
          }
        }
      }
    },
    {
      "cell_type": "code",
      "source": [
        "cadenas.clear();\n",
        "cout <<\"La lista de cadenas tiene \" <<cadenas.size() <<\" elementos\" <<endl <<endl;"
      ],
      "outputs": [],
      "execution_count": null,
      "metadata": {
        "collapsed": true,
        "jupyter": {
          "source_hidden": false,
          "outputs_hidden": false
        },
        "nteract": {
          "transient": {
            "deleting": false
          }
        }
      }
    },
    {
      "cell_type": "code",
      "source": [
        "//Hora de practicar. Realiza las siguientes operaciones con una lista.\n",
        "\n",
        "//Declara una lista de tipo entero llamada enteros.\n",
        "//Agrega los datos 22, 44, 66, 88\n",
        "//Reemplaza el valor en la posición 1 por ese mismo valor + 3 unidades\n",
        "//Inserta en la posición 3 el valor 56\n",
        "//Elimina el último elemento de la lista\n",
        "//Elimina el elemento en la posición 2\n",
        "//Imprime con un ciclo for el contenido de la lista\n",
        "\n",
        "//Resultado esperado: 22 47 56\n"
      ],
      "outputs": [],
      "execution_count": null,
      "metadata": {
        "collapsed": true,
        "jupyter": {
          "source_hidden": false,
          "outputs_hidden": false
        },
        "nteract": {
          "transient": {
            "deleting": false
          }
        }
      }
    }
  ],
  "metadata": {
    "kernelspec": {
      "name": "xcpp11",
      "display_name": "C++11",
      "language": "C++11"
    },
    "language_info": {
      "codemirror_mode": "text/x-c++src",
      "file_extension": ".cpp",
      "mimetype": "text/x-c++src",
      "name": "c++",
      "version": "11"
    },
    "nteract": {
      "version": "0.26.0"
    }
  },
  "nbformat": 4,
  "nbformat_minor": 4
}