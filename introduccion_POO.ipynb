{
  "cells": [
    {
      "cell_type": "markdown",
      "source": [
        "# <center>Programación Orientada a Objetos</center>"
      ],
      "metadata": {
        "nteract": {
          "transient": {
            "deleting": false
          }
        }
      }
    },
    {
      "cell_type": "markdown",
      "source": [
        "En este cuaderno implementaremos una clase *Song* que modele una canción con los atributos: name, artist, year y length. Dichos atributos serán privados para cumplir el principio de **ocultamiento de información**. El diagrama de clase que estaremos implementando es el siguiente:\n",
        "\n",
        "<center><img src=\"media/song.png\" /></center>"
      ],
      "metadata": {
        "nteract": {
          "transient": {
            "deleting": false
          }
        }
      }
    },
    {
      "cell_type": "markdown",
      "source": [
        "La forma de interpretar el diagrama es la siguiente:\n",
        "\n",
        "<center><img src=\"media/interpretacion_diagrama.png\" /></center>"
      ],
      "metadata": {
        "nteract": {
          "transient": {
            "deleting": false
          }
        }
      }
    },
    {
      "cell_type": "markdown",
      "source": [
        "Comencemos con la implementación agregando la biblioteca de entrada y salida y el espacio de nombres stándar."
      ],
      "metadata": {
        "nteract": {
          "transient": {
            "deleting": false
          }
        }
      }
    },
    {
      "cell_type": "code",
      "source": [
        "#include <iostream>\n",
        "using namespace std;"
      ],
      "outputs": [],
      "execution_count": null,
      "metadata": {
        "trusted": true
      }
    },
    {
      "cell_type": "markdown",
      "source": [
        "Como siguiente paso vamos a definir la clase según el modelo que describimos anteriormente. La implementación difiere un poco de la forma en que está diseñado el diagrama ¿Puedes distinguir los cambios?"
      ],
      "metadata": {
        "nteract": {
          "transient": {
            "deleting": false
          }
        }
      }
    },
    {
      "cell_type": "code",
      "source": [
        "class Song\n",
        "{\n",
        "public:\n",
        "    /*Constructor. Se ejecuta al momento de crear el objeto. Tiene el mismo nombre de la clase y no tiene valor de retorno*/\n",
        "    Song();\n",
        "\n",
        "    /*const del lado derecho indica que el objeto no debe cambiar durante toda la ejecución del método*/\n",
        "    string getName() const;\n",
        "    /*Recibe referencia constante a una cadena. Las cadenas pueden ser datos muy grandes por eso lo recibimos como referencia*/\n",
        "    void setName(const string& value);\n",
        "\n",
        "    string getArtist() const;\n",
        "    void setArtist(const string& value);\n",
        "\n",
        "    int getYear() const;\n",
        "    void setYear(int value);\n",
        "\n",
        "    int getLength() const;\n",
        "    void setLength(int value);\n",
        "\n",
        "private: //Los atributos deben ser privados\n",
        "    string name;\n",
        "    string artist;\n",
        "    int year;\n",
        "    int length;\n",
        "};"
      ],
      "outputs": [],
      "execution_count": null,
      "metadata": {
        "collapsed": true,
        "jupyter": {
          "source_hidden": false,
          "outputs_hidden": false
        },
        "nteract": {
          "transient": {
            "deleting": false
          }
        }
      }
    },
    {
      "cell_type": "markdown",
      "source": [
        "A continuación haremos la implementación de todos los métodos y funciones declarados dentro de la clase. Para cada método o función que necesitemos definir vamos a escribir el tipo de retorno seguido del nombre de la clase y después **::** para indicar que la implementación que haremos es de un método o función perteneciente a dicha clase. "
      ],
      "metadata": {
        "nteract": {
          "transient": {
            "deleting": false
          }
        }
      }
    },
    {
      "cell_type": "code",
      "source": [
        "Song::Song()\n",
        "{\n",
        "    //Constructor. Podemos dar valor inicial a los atributos\n",
        "    name = \"\";\n",
        "    artist = \"\";\n",
        "    year = 0;\n",
        "    length = 0;\n",
        "}\n"
      ],
      "outputs": [],
      "execution_count": null,
      "metadata": {
        "trusted": true
      }
    },
    {
      "cell_type": "code",
      "source": [
        "string Song::getName() const\n",
        "{\n",
        "    return name;\n",
        "}"
      ],
      "outputs": [],
      "execution_count": null,
      "metadata": {
        "collapsed": true,
        "jupyter": {
          "source_hidden": false,
          "outputs_hidden": false
        },
        "nteract": {
          "transient": {
            "deleting": false
          }
        }
      }
    },
    {
      "cell_type": "code",
      "source": [
        "void Song::setName(const string& value)\n",
        "{\n",
        "    name = value;\n",
        "}"
      ],
      "outputs": [],
      "execution_count": null,
      "metadata": {
        "trusted": true
      }
    },
    {
      "cell_type": "code",
      "source": [
        "string Song::getArtist() const\n",
        "{\n",
        "    return artist;\n",
        "}"
      ],
      "outputs": [],
      "execution_count": null,
      "metadata": {
        "collapsed": true,
        "jupyter": {
          "source_hidden": false,
          "outputs_hidden": false
        },
        "nteract": {
          "transient": {
            "deleting": false
          }
        }
      }
    },
    {
      "cell_type": "code",
      "source": [
        "void Song::setArtist(const string& value)\n",
        "{\n",
        "    artist = value;\n",
        "}"
      ],
      "outputs": [],
      "execution_count": null,
      "metadata": {
        "collapsed": true,
        "jupyter": {
          "source_hidden": false,
          "outputs_hidden": false
        },
        "nteract": {
          "transient": {
            "deleting": false
          }
        }
      }
    },
    {
      "cell_type": "code",
      "source": [
        "int Song::getYear() const\n",
        "{\n",
        "    return year;\n",
        "}"
      ],
      "outputs": [],
      "execution_count": null,
      "metadata": {
        "collapsed": true,
        "jupyter": {
          "source_hidden": false,
          "outputs_hidden": false
        },
        "nteract": {
          "transient": {
            "deleting": false
          }
        }
      }
    },
    {
      "cell_type": "code",
      "source": [
        "void Song::setYear(int value)\n",
        "{\n",
        "    year = value;\n",
        "}"
      ],
      "outputs": [],
      "execution_count": null,
      "metadata": {
        "collapsed": true,
        "jupyter": {
          "source_hidden": false,
          "outputs_hidden": false
        },
        "nteract": {
          "transient": {
            "deleting": false
          }
        }
      }
    },
    {
      "cell_type": "code",
      "source": [
        "int Song::getLength() const\n",
        "{\n",
        "    return length;\n",
        "}"
      ],
      "outputs": [],
      "execution_count": null,
      "metadata": {
        "collapsed": true,
        "jupyter": {
          "source_hidden": false,
          "outputs_hidden": false
        },
        "nteract": {
          "transient": {
            "deleting": false
          }
        }
      }
    },
    {
      "cell_type": "code",
      "source": [
        "void Song::setLength(int value)\n",
        "{\n",
        "    length = value;\n",
        "}"
      ],
      "outputs": [],
      "execution_count": null,
      "metadata": {
        "trusted": true
      }
    },
    {
      "cell_type": "markdown",
      "source": [
        "Una vez implementada la clase podemos crear objetos y utilizarlos. Implementemos nuestra función main y ¡hagamos unas cuantas canciones!"
      ],
      "metadata": {
        "nteract": {
          "transient": {
            "deleting": false
          }
        }
      }
    },
    {
      "cell_type": "code",
      "source": [
        "int main()\n",
        "{\n",
        "    Song s1;\n",
        "    //s1.name = \"Aquí no es así\" ERROR name es privado y sólo es accesible dentro de la clase.\n",
        "    s1.setName(\"Aquí no es así\");\n",
        "    s1.setArtist(\"Caifanes\");\n",
        "    s1.setYear(1994);\n",
        "    s1.setLength(294);\n",
        "  \n",
        "    cout <<\"Datos de la canción: \" <<endl\n",
        "        <<\"Nombre: \" <<s1.getName() <<endl\n",
        "       <<\"Artista: \" <<s1.getArtist() <<endl\n",
        "      <<\"Año: \" <<s1.getYear() <<endl\n",
        "     <<\"Duración: \" <<s1.getLength() <<\" segundos\" <<endl <<endl;\n",
        "  \n",
        "    //Creamos una segunda canción pero ahora tú darás los datos\n",
        "    Song s2;\n",
        "    string name;\n",
        "    string artist;\n",
        "    int year;\n",
        "    int length;\n",
        "  \n",
        "    cout <<\"Ingresa los datos de una canción\" <<endl \n",
        "        <<\"Nombre: \";\n",
        "    cin.ignore(); //Lo ultimo leído fue un entero y queremos leer una cadena\n",
        "    getline(cin, name);\n",
        "    s2.setName(name); //Asignamos el nombre leído\n",
        "    cout <<\"Artista: \";\n",
        "    getline(cin, artist);\n",
        "    s2.setArtist(artist);\n",
        "    cout <<\"Año: \";\n",
        "    cin >>year;\n",
        "    s2.setYear(year);\n",
        "    cout <<\"Duración: \";\n",
        "    cin >>length;\n",
        "    s2.setLength(length);\n",
        "  \n",
        "    //Ahora imprimimos sus datos\n",
        "    cout <<\"Datos de la canción: \" <<endl\n",
        "        <<\"Nombre: \" <<s2.getName() <<endl\n",
        "       <<\"Artista: \" <<s2.getArtist() <<endl\n",
        "      <<\"Año: \" <<s2.getYear() <<endl\n",
        "     <<\"Duración: \" <<s2.getLength() <<\" segundos\" <<endl <<endl;\n",
        "    return 0;\n",
        "}"
      ],
      "outputs": [],
      "execution_count": null,
      "metadata": {
        "trusted": true
      }
    },
    {
      "cell_type": "markdown",
      "source": [
        "Ahora utilizamos nuestra función main y ya prodremos ver nuestra primer clase del curso en acción."
      ],
      "metadata": {
        "nteract": {
          "transient": {
            "deleting": false
          }
        }
      }
    },
    {
      "cell_type": "code",
      "source": [
        "main();"
      ],
      "outputs": [],
      "execution_count": null,
      "metadata": {
        "trusted": true
      }
    },
    {
      "cell_type": "markdown",
      "source": [
        "En <a href=\"https://drive.google.com/file/d/1dLzO6h1IHIrh5TVHpbl3SOiAUi-aaua4/view?usp=sharing\">este enlace</a> se encuentra el código para la clase Song. Algo que no se mencionó previamente es el hecho que en C++ las clases suelen separarse en dos archivos distintos, uno con extensión **.h** y otro con extensión **.cpp**.\n",
        "\n",
        "En el archivo **.h** se encuentra la declaración de la clase y en el archivo **.cpp** vamos a implementar todos los métodos y funciones de la clase."
      ],
      "metadata": {
        "nteract": {
          "transient": {
            "deleting": false
          }
        }
      }
    }
  ],
  "metadata": {
    "kernelspec": {
      "name": "xcpp11",
      "display_name": "C++11",
      "language": "C++11"
    },
    "language_info": {
      "codemirror_mode": "text/x-c++src",
      "file_extension": ".cpp",
      "mimetype": "text/x-c++src",
      "name": "c++",
      "version": "11"
    },
    "nteract": {
      "version": "0.25.0"
    }
  },
  "nbformat": 4,
  "nbformat_minor": 4
}