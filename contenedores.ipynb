{
  "cells": [
    {
      "cell_type": "markdown",
      "source": [
        "# <center>Contenedores de Datos</center>"
      ],
      "metadata": {
        "nteract": {
          "transient": {
            "deleting": false
          }
        }
      }
    },
    {
      "cell_type": "markdown",
      "source": [
        "En este cuaderno realizaremos un programa que lleve el registro de mascotas ya sea personal o de una veterinaria. Dentro del sistema podremos registrar mascotas, consultarlas y buscarlas por nombre. Para este ejemplo utilizaremos contenedores de datos, en particular usaremos arreglo, registro, unión y enumerado.\n",
        "\n",
        "Comenzaremos incluyendo la biblioteca estándar para flujos de entrada y salida así como el espacio de nombres estándar."
      ],
      "metadata": {
        "nteract": {
          "transient": {
            "deleting": false
          }
        }
      }
    },
    {
      "cell_type": "code",
      "source": [
        "#include <iostream>\n",
        "using namespace std;"
      ],
      "outputs": [],
      "execution_count": null,
      "metadata": {
        "trusted": true
      }
    },
    {
      "cell_type": "markdown",
      "source": [
        "Ahora bien, dado que nuestro programa debe manejar un menú, es recomendable tener constantes con nombres significativos para las opciones de dicho menú; con ello ganamos claridad al momento de leer el código y sobre todos hacemos más fácil el proceso de mantenimiento y corrección de errores. El contenedor que nos permite agrupar una colección de constantes en un **enum** (enumerado).\n",
        "\n",
        "Si por alguna razón debe cambiar la numeración del menú, basta con modificar los datos del enumerado y el resto del programa seguirá funcionando dado que dependerá del contenido de ese enumerado y no de \"números mágicos\"."
      ],
      "metadata": {
        "nteract": {
          "transient": {
            "deleting": false
          }
        }
      }
    },
    {
      "cell_type": "code",
      "source": [
        "enum Opciones\n",
        "{\n",
        "    OPC_SALIR,\n",
        "    OPC_AGREGAR,\n",
        "    OPC_CONSULTAR,\n",
        "    OPC_BUSCAR\n",
        "};"
      ],
      "outputs": [],
      "execution_count": null,
      "metadata": {
        "collapsed": true,
        "jupyter": {
          "source_hidden": false,
          "outputs_hidden": false
        },
        "nteract": {
          "transient": {
            "deleting": false
          }
        }
      }
    },
    {
      "cell_type": "markdown",
      "source": [
        "Las mascotas serán registradas con un peso, sin embargo, no es lo mismo intentar pesar un san bernardo adulto que un conejo de semanas de nacido. Para dar más sentido a esa variable que represente el peso utilizaremos una unión (tipo **union** en C++) la cual nos permite asignar valor a uno de sus campos o variables internas y que esa variable sea la que represente a toda la unión. \n",
        "\n",
        "En nuestro caso podremos representar el peso como un entero si queremos registrarlo como gramos o bien como un flotante si quisiéramos registrarlo como kilos."
      ],
      "metadata": {
        "nteract": {
          "transient": {
            "deleting": false
          }
        }
      }
    },
    {
      "cell_type": "code",
      "source": [
        "union Peso\n",
        "{\n",
        "    int gramos;\n",
        "    float kilos;\n",
        "};\n"
      ],
      "outputs": [],
      "execution_count": null,
      "metadata": {
        "trusted": true
      }
    },
    {
      "cell_type": "markdown",
      "source": [
        "Una vez declarada la unión que representará el peso podemos declarar el registro (**struct**) que usaremos para las mascotas. Cada mascota tendrá nombre, edad y peso. En este momento surge un pregunta, si la unión puede tener varios campos pero sólo uno de ellos es accesible ¿Cómo vamos a saber cuál debemos leer? &#x1F914;. Pues bien, para ello agregaremos un cuatro campo que almacene la unidad de medida utilizada para representar el peso.\n",
        "\n",
        "Nuestro registro mascota se verá así:"
      ],
      "metadata": {
        "nteract": {
          "transient": {
            "deleting": false
          }
        }
      }
    },
    {
      "cell_type": "code",
      "source": [
        "struct Mascota\n",
        "{\n",
        "    string nombre;\n",
        "    int edad;\n",
        "    Peso peso;\n",
        "    int unidadPeso;\n",
        "};"
      ],
      "outputs": [],
      "execution_count": null,
      "metadata": {
        "trusted": true
      }
    },
    {
      "cell_type": "markdown",
      "source": [
        "Y para la unidad de peso definiremos un enumerado, recuerda, **no queremos números mágicos en nuestro programa**."
      ],
      "metadata": {
        "nteract": {
          "transient": {
            "deleting": false
          }
        }
      }
    },
    {
      "cell_type": "code",
      "source": [
        "enum Unidad\n",
        "{\n",
        "    U_GRAMO, // valor 0 por omisión\n",
        "    U_KILO, //valor 1\n",
        "};"
      ],
      "outputs": [],
      "execution_count": null,
      "metadata": {
        "collapsed": true,
        "jupyter": {
          "source_hidden": false,
          "outputs_hidden": false
        },
        "nteract": {
          "transient": {
            "deleting": false
          }
        }
      }
    },
    {
      "cell_type": "markdown",
      "source": [
        "Antes de comenzar con las implementaciones funcionales de código agregaremos las constantes y variables globales necesarias para el programa."
      ],
      "metadata": {
        "nteract": {
          "transient": {
            "deleting": false
          }
        }
      }
    },
    {
      "cell_type": "code",
      "source": [
        "const int MAX_MASCOTA = 10; //total de mascotas que se pueden registrar\n",
        "Mascota mascotas[MAX_MASCOTA]; //arreglo de mascotas\n",
        "int contadorMascotas = 0; //contador de mascotas agregadas"
      ],
      "outputs": [],
      "execution_count": null,
      "metadata": {
        "collapsed": true,
        "jupyter": {
          "source_hidden": false,
          "outputs_hidden": false
        },
        "nteract": {
          "transient": {
            "deleting": false
          }
        }
      }
    },
    {
      "cell_type": "markdown",
      "source": [
        "En nuestro programa definiremos un procedimiento para cada una de las opciones de nuestro menú.\n",
        "\n",
        "Comencemos por el procedimiento para agregar mascotas. Haremos que dicho procedimiento reciba por referencia a la mascota que deseamos agregar, o dicho de otra forma, el procedimiento recibirá la referencia de la mascota a la cual le asignaremos valor a sus campos. Recuerda que en un paso por referencia no hacemos copia de la variable, por lo tanto cualquier cambio realizado en la variable recibida se reflejará en la variable que utilizamos al momento de llamar el procedimiento."
      ],
      "metadata": {
        "nteract": {
          "transient": {
            "deleting": false
          }
        }
      }
    },
    {
      "cell_type": "code",
      "source": [
        "void agregarMascota(Mascota &m)\n",
        "{\n",
        "    cout <<\"Nombre: \";\n",
        "    getline(cin, m.nombre); //Solicitamos el nombre de la mascota\n",
        "    cout <<\"Edad: \";\n",
        "    cin >>m.edad; //Solicitamos la edad de la mascota\n",
        "    do\n",
        "    {\n",
        "        cout <<\"¿En qué unidad se registrará el peso?\" <<endl //Debemos seleccionar la unidad en la que se guardará el peso\n",
        "          <<U_GRAMO <<\") Gramos\" <<endl\n",
        "         <<U_KILO <<\") Kilos\" <<endl\n",
        "        <<\"Selecciona una opción: \";\n",
        "        cin >>m.unidadPeso;\n",
        "    }\n",
        "    while(m.unidadPeso < U_GRAMO || m.unidadPeso > U_KILO); //Solicitamos el dato mientras no sea válido\n",
        "\n",
        "    if (m.unidadPeso == U_KILO)\n",
        "    {\n",
        "        cout <<\"Peso en Kilos: \";\n",
        "        cin >>m.peso.kilos;\n",
        "    }\n",
        "    else\n",
        "    {\n",
        "        cout <<\"Peso en gramos: \";\n",
        "        cin >>m.peso.gramos;\n",
        "    }\n",
        "}"
      ],
      "outputs": [],
      "execution_count": null,
      "metadata": {
        "trusted": true
      }
    },
    {
      "cell_type": "markdown",
      "source": [
        "A continuación definiremos el método para consultar una mascota."
      ],
      "metadata": {
        "nteract": {
          "transient": {
            "deleting": false
          }
        }
      }
    },
    {
      "cell_type": "code",
      "source": [
        "void consultarMascota(Mascota m)\n",
        "{\n",
        "  cout <<\"Nombre: \" <<m.nombre <<endl\n",
        "      <<\"Edad: \" <<m.edad <<endl;\n",
        "  if (m.unidadPeso == U_KILO) //Para consultar el campo correcto de la union peso debemos evaluar en qué unidad se registró\n",
        "  {\n",
        "     cout <<\"Peso: \" <<m.peso.kilos <<\" kilos\" <<endl <<endl;\n",
        "  }\n",
        "  else\n",
        "  {\n",
        "    cout <<\"Peso: \" <<m.peso.gramos <<\" gramos\" <<endl <<endl;\n",
        "  } \n",
        "}"
      ],
      "outputs": [],
      "execution_count": null,
      "metadata": {
        "trusted": true
      }
    },
    {
      "cell_type": "markdown",
      "source": [
        "Para la búsqueda realizaremos búsqueda por coincidencia de patrones sobre el nombre de la mascota. ¿Qué quiere decir eso? le solicitaremos al usuario que escriba el nombre de la mascota y buscaremos en el nombre de todas las mascotas ese patrón, si lo encontramos entonces imprimimos los datos de la mascota. Por ejemplo si tuviéramos las mascotas \"Toby\", \"Bongo\" y \"Tucka\" y al momento de solicitar el nombre de la mascota el usuario escribiera \"o\" se mostraría en pantalla los datos de \"Toby\" y \"Bongo\" porque tienen ese símbolo; si escribiera \"ck\" entonces sólo mostraría los datos de \"Tucka\" porque es el único nombre en el que se cumple el patrón."
      ],
      "metadata": {
        "nteract": {
          "transient": {
            "deleting": false
          }
        }
      }
    },
    {
      "cell_type": "code",
      "source": [
        "void buscarMascota()\n",
        "{\n",
        "  string patron;\n",
        "  int mascotasEncontradas = 0; //contador de mascotas encontradas con el patrón\n",
        "  \n",
        "  cout <<\"Nombre: \";\n",
        "  getline(cin, patron);\n",
        "  \n",
        "  for (int i(0); i < contadorMascotas; ++i)\n",
        "  {\n",
        "    /* la función find del tipo de dato string recibe el patrón buscado y a partir de qué posición se hará la búsqueda y regresa la posición a partir de la cuál encontró un patrón o el tamaño de la cadena en caso de no encontrarlo. */\n",
        "    if (mascotas[i].nombre.find(patron, 0) < mascotas[i].nombre.size())\n",
        "    {\n",
        "      /*si en el nombre de la mascota encontramos el patrón almacendo en la variable patron a partir de la posición 0 y el resultado es menor que el tamaño del nombre de la mascota entonces imprime los datos de la mascota.*/\n",
        "      consultarMascota(mascotas[i]);\n",
        "      ++mascotasEncontradas;\n",
        "    }\n",
        "  }\n",
        "  if (mascotasEncontradas == 0)\n",
        "  {\n",
        "    cout <<\"No hay mascotas con ese nombre\" <<endl <<endl;\n",
        "  }\n",
        "}"
      ],
      "outputs": [],
      "execution_count": null,
      "metadata": {
        "collapsed": true,
        "jupyter": {
          "source_hidden": false,
          "outputs_hidden": false
        },
        "nteract": {
          "transient": {
            "deleting": false
          }
        }
      }
    },
    {
      "cell_type": "markdown",
      "source": [
        "Finalmente implementamos la función principal en la cual estará el menú y los llamados a los métodos previamente implementados."
      ],
      "metadata": {
        "nteract": {
          "transient": {
            "deleting": false
          }
        }
      }
    },
    {
      "cell_type": "code",
      "source": [
        "int main()\n",
        "{\n",
        "    int opc;\n",
        "    do\n",
        "    {\n",
        "        cout <<OPC_AGREGAR <<\") Agregar\" <<endl\n",
        "            <<OPC_CONSULTAR <<\") Consultar\" <<endl\n",
        "           <<OPC_BUSCAR <<\") Buscar\" <<endl\n",
        "          <<OPC_SALIR <<\") Salir\" <<endl\n",
        "         <<\"Selecciona una opción: \";\n",
        "        cin >>opc;\n",
        "        cin.ignore();\n",
        "\n",
        "        switch (opc)\n",
        "        {\n",
        "        case OPC_AGREGAR:\n",
        "            cout <<\"                        Agregar Mascota\" <<endl;\n",
        "            if (contadorMascotas < MAX_MASCOTA)\n",
        "            {\n",
        "                agregarMascota(mascotas[contadorMascotas]);\n",
        "                contadorMascotas++;\n",
        "            }\n",
        "            else\n",
        "            {\n",
        "                cout <<\"Ya no hay espacios disponibles\" <<endl;\n",
        "            }\n",
        "\n",
        "            break;\n",
        "        case OPC_CONSULTAR:\n",
        "            cout <<\"                        Consultar Mascotas\" <<endl;\n",
        "            if (contadorMascotas == 0)\n",
        "            {\n",
        "                cout <<\"No hay registros\" <<endl;\n",
        "            }\n",
        "            else\n",
        "            {\n",
        "                for (int i(0); i < contadorMascotas; ++i)\n",
        "                {\n",
        "                    consultarMascota(mascotas[i]);\n",
        "                }\n",
        "            }\n",
        "            break;\n",
        "        case OPC_BUSCAR:\n",
        "            cout <<\"                        Buscar Mascota\" <<endl;\n",
        "            if (contadorMascotas == 0)\n",
        "            {\n",
        "                cout <<\"No hay registros\" <<endl;\n",
        "            }\n",
        "            else\n",
        "            {\n",
        "                buscarMascota();\n",
        "            }\n",
        "            break;\n",
        "        case OPC_SALIR:\n",
        "            break;\n",
        "          default:\n",
        "            cout <<\"Opción no válida...\" <<endl;\n",
        "        }\n",
        "    }\n",
        "    while (opc != OPC_SALIR);\n",
        "    return 0;\n",
        "}"
      ],
      "outputs": [],
      "execution_count": null,
      "metadata": {
        "trusted": true
      }
    },
    {
      "cell_type": "markdown",
      "source": [
        "Ahora solo resta hacer el llamado a la función principal y probar nuestro sistema. ¡A registrar mascotas! &#x1f415;&#x1f408&#x1f401;&#x1f407;&#x1f422;"
      ],
      "metadata": {
        "nteract": {
          "transient": {
            "deleting": false
          }
        }
      }
    },
    {
      "cell_type": "code",
      "source": [
        "main();"
      ],
      "outputs": [],
      "execution_count": null,
      "metadata": {
        "trusted": true
      }
    }
  ],
  "metadata": {
    "kernelspec": {
      "name": "xcpp11",
      "display_name": "C++11",
      "language": "C++11"
    },
    "language_info": {
      "codemirror_mode": "text/x-c++src",
      "file_extension": ".cpp",
      "mimetype": "text/x-c++src",
      "name": "c++",
      "version": "11"
    },
    "nteract": {
      "version": "0.25.0"
    }
  },
  "nbformat": 4,
  "nbformat_minor": 4
}